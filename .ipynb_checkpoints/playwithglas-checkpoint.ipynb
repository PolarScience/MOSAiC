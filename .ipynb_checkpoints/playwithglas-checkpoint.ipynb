{
 "cells": [
  {
   "cell_type": "code",
   "execution_count": 1,
   "metadata": {},
   "outputs": [],
   "source": [
    "import os\n",
    "import requests\n",
    "import zipfile"
   ]
  },
  {
   "cell_type": "code",
   "execution_count": 2,
   "metadata": {},
   "outputs": [],
   "source": [
    "import numpy as np\n",
    "import pandas as pd\n",
    "import geopandas as gpd\n",
    "import matplotlib.pyplot as plt\n",
    "from shapely.geometry import Point, Polygon"
   ]
  },
  {
   "cell_type": "code",
   "execution_count": 3,
   "metadata": {},
   "outputs": [],
   "source": [
    "import warnings\n",
    "warnings.filterwarnings('ignore')"
   ]
  },
  {
   "cell_type": "code",
   "execution_count": 4,
   "metadata": {},
   "outputs": [],
   "source": [
    "#Magic function to enable interactive plotting (zoom/pan) in Jupyter notebook\n",
    "#If running locally, this would be %matplotlib notebook, but since we're using Juptyerlab, we will use widget\n",
    "%matplotlib widget\n",
    "#%matplotlib inline"
   ]
  },
  {
   "cell_type": "code",
   "execution_count": 5,
   "metadata": {},
   "outputs": [],
   "source": [
    "#Define path to sample GLAS data\n",
    "glas_fn='GLAH14_tllz_conus_lulcfilt_demfilt.csv'"
   ]
  },
  {
   "cell_type": "code",
   "execution_count": 6,
   "metadata": {},
   "outputs": [
    {
     "name": "stdout",
     "output_type": "stream",
     "text": [
      "^C\n"
     ]
    }
   ],
   "source": [
    "#Quick check of csv file contents\n",
    "!head $glad_fn"
   ]
  },
  {
   "cell_type": "code",
   "execution_count": 7,
   "metadata": {},
   "outputs": [],
   "source": [
    "glas_df=pd.read_csv(glas_fn)"
   ]
  },
  {
   "cell_type": "code",
   "execution_count": 8,
   "metadata": {},
   "outputs": [
    {
     "data": {
      "text/html": [
       "<div>\n",
       "<style scoped>\n",
       "    .dataframe tbody tr th:only-of-type {\n",
       "        vertical-align: middle;\n",
       "    }\n",
       "\n",
       "    .dataframe tbody tr th {\n",
       "        vertical-align: top;\n",
       "    }\n",
       "\n",
       "    .dataframe thead th {\n",
       "        text-align: right;\n",
       "    }\n",
       "</style>\n",
       "<table border=\"1\" class=\"dataframe\">\n",
       "  <thead>\n",
       "    <tr style=\"text-align: right;\">\n",
       "      <th></th>\n",
       "      <th>decyear</th>\n",
       "      <th>ordinal</th>\n",
       "      <th>lat</th>\n",
       "      <th>lon</th>\n",
       "      <th>glas_z</th>\n",
       "      <th>dem_z</th>\n",
       "      <th>dem_z_std</th>\n",
       "      <th>lulc</th>\n",
       "    </tr>\n",
       "  </thead>\n",
       "  <tbody>\n",
       "    <tr>\n",
       "      <th>0</th>\n",
       "      <td>2003.139571</td>\n",
       "      <td>731266.943345</td>\n",
       "      <td>44.157897</td>\n",
       "      <td>-105.356562</td>\n",
       "      <td>1398.51</td>\n",
       "      <td>1400.52</td>\n",
       "      <td>0.33</td>\n",
       "      <td>31</td>\n",
       "    </tr>\n",
       "    <tr>\n",
       "      <th>1</th>\n",
       "      <td>2003.139571</td>\n",
       "      <td>731266.943346</td>\n",
       "      <td>44.150175</td>\n",
       "      <td>-105.358116</td>\n",
       "      <td>1387.11</td>\n",
       "      <td>1384.64</td>\n",
       "      <td>0.43</td>\n",
       "      <td>31</td>\n",
       "    </tr>\n",
       "    <tr>\n",
       "      <th>2</th>\n",
       "      <td>2003.139571</td>\n",
       "      <td>731266.943347</td>\n",
       "      <td>44.148632</td>\n",
       "      <td>-105.358427</td>\n",
       "      <td>1392.83</td>\n",
       "      <td>1383.49</td>\n",
       "      <td>0.28</td>\n",
       "      <td>31</td>\n",
       "    </tr>\n",
       "    <tr>\n",
       "      <th>3</th>\n",
       "      <td>2003.139571</td>\n",
       "      <td>731266.943347</td>\n",
       "      <td>44.147087</td>\n",
       "      <td>-105.358738</td>\n",
       "      <td>1384.24</td>\n",
       "      <td>1382.85</td>\n",
       "      <td>0.84</td>\n",
       "      <td>31</td>\n",
       "    </tr>\n",
       "    <tr>\n",
       "      <th>4</th>\n",
       "      <td>2003.139571</td>\n",
       "      <td>731266.943347</td>\n",
       "      <td>44.145542</td>\n",
       "      <td>-105.359048</td>\n",
       "      <td>1369.21</td>\n",
       "      <td>1380.24</td>\n",
       "      <td>1.73</td>\n",
       "      <td>31</td>\n",
       "    </tr>\n",
       "    <tr>\n",
       "      <th>...</th>\n",
       "      <td>...</td>\n",
       "      <td>...</td>\n",
       "      <td>...</td>\n",
       "      <td>...</td>\n",
       "      <td>...</td>\n",
       "      <td>...</td>\n",
       "      <td>...</td>\n",
       "      <td>...</td>\n",
       "    </tr>\n",
       "    <tr>\n",
       "      <th>65231</th>\n",
       "      <td>2009.775995</td>\n",
       "      <td>733691.238340</td>\n",
       "      <td>37.896222</td>\n",
       "      <td>-117.044399</td>\n",
       "      <td>1556.16</td>\n",
       "      <td>1556.43</td>\n",
       "      <td>0.00</td>\n",
       "      <td>31</td>\n",
       "    </tr>\n",
       "    <tr>\n",
       "      <th>65232</th>\n",
       "      <td>2009.775995</td>\n",
       "      <td>733691.238340</td>\n",
       "      <td>37.897769</td>\n",
       "      <td>-117.044675</td>\n",
       "      <td>1556.02</td>\n",
       "      <td>1556.43</td>\n",
       "      <td>0.00</td>\n",
       "      <td>31</td>\n",
       "    </tr>\n",
       "    <tr>\n",
       "      <th>65233</th>\n",
       "      <td>2009.775995</td>\n",
       "      <td>733691.238340</td>\n",
       "      <td>37.899319</td>\n",
       "      <td>-117.044952</td>\n",
       "      <td>1556.19</td>\n",
       "      <td>1556.44</td>\n",
       "      <td>0.00</td>\n",
       "      <td>31</td>\n",
       "    </tr>\n",
       "    <tr>\n",
       "      <th>65234</th>\n",
       "      <td>2009.775995</td>\n",
       "      <td>733691.238340</td>\n",
       "      <td>37.900869</td>\n",
       "      <td>-117.045230</td>\n",
       "      <td>1556.18</td>\n",
       "      <td>1556.44</td>\n",
       "      <td>0.00</td>\n",
       "      <td>31</td>\n",
       "    </tr>\n",
       "    <tr>\n",
       "      <th>65235</th>\n",
       "      <td>2009.775995</td>\n",
       "      <td>733691.238341</td>\n",
       "      <td>37.902420</td>\n",
       "      <td>-117.045508</td>\n",
       "      <td>1556.32</td>\n",
       "      <td>1556.44</td>\n",
       "      <td>0.00</td>\n",
       "      <td>31</td>\n",
       "    </tr>\n",
       "  </tbody>\n",
       "</table>\n",
       "<p>65236 rows × 8 columns</p>\n",
       "</div>"
      ],
      "text/plain": [
       "           decyear        ordinal        lat         lon   glas_z    dem_z  \\\n",
       "0      2003.139571  731266.943345  44.157897 -105.356562  1398.51  1400.52   \n",
       "1      2003.139571  731266.943346  44.150175 -105.358116  1387.11  1384.64   \n",
       "2      2003.139571  731266.943347  44.148632 -105.358427  1392.83  1383.49   \n",
       "3      2003.139571  731266.943347  44.147087 -105.358738  1384.24  1382.85   \n",
       "4      2003.139571  731266.943347  44.145542 -105.359048  1369.21  1380.24   \n",
       "...            ...            ...        ...         ...      ...      ...   \n",
       "65231  2009.775995  733691.238340  37.896222 -117.044399  1556.16  1556.43   \n",
       "65232  2009.775995  733691.238340  37.897769 -117.044675  1556.02  1556.43   \n",
       "65233  2009.775995  733691.238340  37.899319 -117.044952  1556.19  1556.44   \n",
       "65234  2009.775995  733691.238340  37.900869 -117.045230  1556.18  1556.44   \n",
       "65235  2009.775995  733691.238341  37.902420 -117.045508  1556.32  1556.44   \n",
       "\n",
       "       dem_z_std  lulc  \n",
       "0           0.33    31  \n",
       "1           0.43    31  \n",
       "2           0.28    31  \n",
       "3           0.84    31  \n",
       "4           1.73    31  \n",
       "...          ...   ...  \n",
       "65231       0.00    31  \n",
       "65232       0.00    31  \n",
       "65233       0.00    31  \n",
       "65234       0.00    31  \n",
       "65235       0.00    31  \n",
       "\n",
       "[65236 rows x 8 columns]"
      ]
     },
     "execution_count": 8,
     "metadata": {},
     "output_type": "execute_result"
    }
   ],
   "source": [
    "glas_df"
   ]
  },
  {
   "cell_type": "code",
   "execution_count": 9,
   "metadata": {},
   "outputs": [
    {
     "name": "stdout",
     "output_type": "stream",
     "text": [
      "<class 'pandas.core.frame.DataFrame'>\n",
      "RangeIndex: 65236 entries, 0 to 65235\n",
      "Data columns (total 8 columns):\n",
      " #   Column     Non-Null Count  Dtype  \n",
      "---  ------     --------------  -----  \n",
      " 0   decyear    65236 non-null  float64\n",
      " 1   ordinal    65236 non-null  float64\n",
      " 2   lat        65236 non-null  float64\n",
      " 3   lon        65236 non-null  float64\n",
      " 4   glas_z     65236 non-null  float64\n",
      " 5   dem_z      65236 non-null  float64\n",
      " 6   dem_z_std  65236 non-null  float64\n",
      " 7   lulc       65236 non-null  int64  \n",
      "dtypes: float64(7), int64(1)\n",
      "memory usage: 4.0 MB\n"
     ]
    }
   ],
   "source": [
    "glas_df.info()"
   ]
  },
  {
   "cell_type": "code",
   "execution_count": 10,
   "metadata": {},
   "outputs": [
    {
     "data": {
      "text/plain": [
       "Index(['decyear', 'ordinal', 'lat', 'lon', 'glas_z', 'dem_z', 'dem_z_std',\n",
       "       'lulc'],\n",
       "      dtype='object')"
      ]
     },
     "execution_count": 10,
     "metadata": {},
     "output_type": "execute_result"
    }
   ],
   "source": [
    "glas_df.columns"
   ]
  },
  {
   "cell_type": "code",
   "execution_count": 12,
   "metadata": {},
   "outputs": [
    {
     "data": {
      "text/html": [
       "<div>\n",
       "<style scoped>\n",
       "    .dataframe tbody tr th:only-of-type {\n",
       "        vertical-align: middle;\n",
       "    }\n",
       "\n",
       "    .dataframe tbody tr th {\n",
       "        vertical-align: top;\n",
       "    }\n",
       "\n",
       "    .dataframe thead th {\n",
       "        text-align: right;\n",
       "    }\n",
       "</style>\n",
       "<table border=\"1\" class=\"dataframe\">\n",
       "  <thead>\n",
       "    <tr style=\"text-align: right;\">\n",
       "      <th></th>\n",
       "      <th>decyear</th>\n",
       "      <th>ordinal</th>\n",
       "      <th>lat</th>\n",
       "      <th>lon</th>\n",
       "      <th>glas_z</th>\n",
       "      <th>dem_z</th>\n",
       "      <th>dem_z_std</th>\n",
       "      <th>lulc</th>\n",
       "    </tr>\n",
       "  </thead>\n",
       "  <tbody>\n",
       "    <tr>\n",
       "      <th>0</th>\n",
       "      <td>2003.139571</td>\n",
       "      <td>731266.943345</td>\n",
       "      <td>44.157897</td>\n",
       "      <td>-105.356562</td>\n",
       "      <td>1398.51</td>\n",
       "      <td>1400.52</td>\n",
       "      <td>0.33</td>\n",
       "      <td>31</td>\n",
       "    </tr>\n",
       "    <tr>\n",
       "      <th>1</th>\n",
       "      <td>2003.139571</td>\n",
       "      <td>731266.943346</td>\n",
       "      <td>44.150175</td>\n",
       "      <td>-105.358116</td>\n",
       "      <td>1387.11</td>\n",
       "      <td>1384.64</td>\n",
       "      <td>0.43</td>\n",
       "      <td>31</td>\n",
       "    </tr>\n",
       "    <tr>\n",
       "      <th>2</th>\n",
       "      <td>2003.139571</td>\n",
       "      <td>731266.943347</td>\n",
       "      <td>44.148632</td>\n",
       "      <td>-105.358427</td>\n",
       "      <td>1392.83</td>\n",
       "      <td>1383.49</td>\n",
       "      <td>0.28</td>\n",
       "      <td>31</td>\n",
       "    </tr>\n",
       "    <tr>\n",
       "      <th>3</th>\n",
       "      <td>2003.139571</td>\n",
       "      <td>731266.943347</td>\n",
       "      <td>44.147087</td>\n",
       "      <td>-105.358738</td>\n",
       "      <td>1384.24</td>\n",
       "      <td>1382.85</td>\n",
       "      <td>0.84</td>\n",
       "      <td>31</td>\n",
       "    </tr>\n",
       "    <tr>\n",
       "      <th>4</th>\n",
       "      <td>2003.139571</td>\n",
       "      <td>731266.943347</td>\n",
       "      <td>44.145542</td>\n",
       "      <td>-105.359048</td>\n",
       "      <td>1369.21</td>\n",
       "      <td>1380.24</td>\n",
       "      <td>1.73</td>\n",
       "      <td>31</td>\n",
       "    </tr>\n",
       "  </tbody>\n",
       "</table>\n",
       "</div>"
      ],
      "text/plain": [
       "       decyear        ordinal        lat         lon   glas_z    dem_z  \\\n",
       "0  2003.139571  731266.943345  44.157897 -105.356562  1398.51  1400.52   \n",
       "1  2003.139571  731266.943346  44.150175 -105.358116  1387.11  1384.64   \n",
       "2  2003.139571  731266.943347  44.148632 -105.358427  1392.83  1383.49   \n",
       "3  2003.139571  731266.943347  44.147087 -105.358738  1384.24  1382.85   \n",
       "4  2003.139571  731266.943347  44.145542 -105.359048  1369.21  1380.24   \n",
       "\n",
       "   dem_z_std  lulc  \n",
       "0       0.33    31  \n",
       "1       0.43    31  \n",
       "2       0.28    31  \n",
       "3       0.84    31  \n",
       "4       1.73    31  "
      ]
     },
     "execution_count": 12,
     "metadata": {},
     "output_type": "execute_result"
    }
   ],
   "source": [
    "glas_df.head()"
   ]
  },
  {
   "cell_type": "code",
   "execution_count": 13,
   "metadata": {},
   "outputs": [
    {
     "data": {
      "text/html": [
       "<div>\n",
       "<style scoped>\n",
       "    .dataframe tbody tr th:only-of-type {\n",
       "        vertical-align: middle;\n",
       "    }\n",
       "\n",
       "    .dataframe tbody tr th {\n",
       "        vertical-align: top;\n",
       "    }\n",
       "\n",
       "    .dataframe thead th {\n",
       "        text-align: right;\n",
       "    }\n",
       "</style>\n",
       "<table border=\"1\" class=\"dataframe\">\n",
       "  <thead>\n",
       "    <tr style=\"text-align: right;\">\n",
       "      <th></th>\n",
       "      <th>decyear</th>\n",
       "      <th>ordinal</th>\n",
       "      <th>lat</th>\n",
       "      <th>lon</th>\n",
       "      <th>glas_z</th>\n",
       "      <th>dem_z</th>\n",
       "      <th>dem_z_std</th>\n",
       "      <th>lulc</th>\n",
       "    </tr>\n",
       "  </thead>\n",
       "  <tbody>\n",
       "    <tr>\n",
       "      <th>65231</th>\n",
       "      <td>2009.775995</td>\n",
       "      <td>733691.238340</td>\n",
       "      <td>37.896222</td>\n",
       "      <td>-117.044399</td>\n",
       "      <td>1556.16</td>\n",
       "      <td>1556.43</td>\n",
       "      <td>0.0</td>\n",
       "      <td>31</td>\n",
       "    </tr>\n",
       "    <tr>\n",
       "      <th>65232</th>\n",
       "      <td>2009.775995</td>\n",
       "      <td>733691.238340</td>\n",
       "      <td>37.897769</td>\n",
       "      <td>-117.044675</td>\n",
       "      <td>1556.02</td>\n",
       "      <td>1556.43</td>\n",
       "      <td>0.0</td>\n",
       "      <td>31</td>\n",
       "    </tr>\n",
       "    <tr>\n",
       "      <th>65233</th>\n",
       "      <td>2009.775995</td>\n",
       "      <td>733691.238340</td>\n",
       "      <td>37.899319</td>\n",
       "      <td>-117.044952</td>\n",
       "      <td>1556.19</td>\n",
       "      <td>1556.44</td>\n",
       "      <td>0.0</td>\n",
       "      <td>31</td>\n",
       "    </tr>\n",
       "    <tr>\n",
       "      <th>65234</th>\n",
       "      <td>2009.775995</td>\n",
       "      <td>733691.238340</td>\n",
       "      <td>37.900869</td>\n",
       "      <td>-117.045230</td>\n",
       "      <td>1556.18</td>\n",
       "      <td>1556.44</td>\n",
       "      <td>0.0</td>\n",
       "      <td>31</td>\n",
       "    </tr>\n",
       "    <tr>\n",
       "      <th>65235</th>\n",
       "      <td>2009.775995</td>\n",
       "      <td>733691.238341</td>\n",
       "      <td>37.902420</td>\n",
       "      <td>-117.045508</td>\n",
       "      <td>1556.32</td>\n",
       "      <td>1556.44</td>\n",
       "      <td>0.0</td>\n",
       "      <td>31</td>\n",
       "    </tr>\n",
       "  </tbody>\n",
       "</table>\n",
       "</div>"
      ],
      "text/plain": [
       "           decyear        ordinal        lat         lon   glas_z    dem_z  \\\n",
       "65231  2009.775995  733691.238340  37.896222 -117.044399  1556.16  1556.43   \n",
       "65232  2009.775995  733691.238340  37.897769 -117.044675  1556.02  1556.43   \n",
       "65233  2009.775995  733691.238340  37.899319 -117.044952  1556.19  1556.44   \n",
       "65234  2009.775995  733691.238340  37.900869 -117.045230  1556.18  1556.44   \n",
       "65235  2009.775995  733691.238341  37.902420 -117.045508  1556.32  1556.44   \n",
       "\n",
       "       dem_z_std  lulc  \n",
       "65231        0.0    31  \n",
       "65232        0.0    31  \n",
       "65233        0.0    31  \n",
       "65234        0.0    31  \n",
       "65235        0.0    31  "
      ]
     },
     "execution_count": 13,
     "metadata": {},
     "output_type": "execute_result"
    }
   ],
   "source": [
    "glas_df.tail()"
   ]
  },
  {
   "cell_type": "code",
   "execution_count": 15,
   "metadata": {},
   "outputs": [
    {
     "data": {
      "text/plain": [
       "decyear        2005.945322\n",
       "ordinal      732291.890372\n",
       "lat              40.946798\n",
       "lon            -115.040612\n",
       "glas_z         1791.494167\n",
       "dem_z          1792.260964\n",
       "dem_z_std         5.504748\n",
       "lulc             30.339444\n",
       "dtype: float64"
      ]
     },
     "execution_count": 15,
     "metadata": {},
     "output_type": "execute_result"
    }
   ],
   "source": [
    "glas_df.mean()"
   ]
  },
  {
   "cell_type": "code",
   "execution_count": 16,
   "metadata": {},
   "outputs": [
    {
     "data": {
      "text/plain": [
       "decyear         1.729573\n",
       "ordinal       631.766682\n",
       "lat             3.590476\n",
       "lon             5.465065\n",
       "glas_z       1037.183482\n",
       "dem_z        1037.925371\n",
       "dem_z_std       7.518558\n",
       "lulc            3.480576\n",
       "dtype: float64"
      ]
     },
     "execution_count": 16,
     "metadata": {},
     "output_type": "execute_result"
    }
   ],
   "source": [
    "glas_df.std()"
   ]
  },
  {
   "cell_type": "code",
   "execution_count": 17,
   "metadata": {},
   "outputs": [],
   "source": [
    "#apply a custom function to each column\n",
    "#in this example we will compute the normalized median absolute deviation (NMAD) which for a normal distribution is the same as the standard deviation\n",
    "#for data containing outliers it is a more robust representation of variability\n",
    "#we will then use the Pandas apply method to compute the NMAD for all values in each column\n",
    "def nmad(a, c=1.4826):\n",
    "    return np.median(np.fabs(a - np.median(a))) * c"
   ]
  },
  {
   "cell_type": "code",
   "execution_count": 18,
   "metadata": {},
   "outputs": [
    {
     "data": {
      "text/plain": [
       "decyear        2.066488\n",
       "ordinal      755.079010\n",
       "lat            3.885421\n",
       "lon            5.798237\n",
       "glas_z       632.580942\n",
       "dem_z        632.136162\n",
       "dem_z_std      2.001510\n",
       "lulc           0.000000\n",
       "dtype: float64"
      ]
     },
     "execution_count": 18,
     "metadata": {},
     "output_type": "execute_result"
    }
   ],
   "source": [
    "glas_df.apply(nmad)"
   ]
  },
  {
   "cell_type": "code",
   "execution_count": 19,
   "metadata": {},
   "outputs": [
    {
     "data": {
      "text/html": [
       "<div>\n",
       "<style scoped>\n",
       "    .dataframe tbody tr th:only-of-type {\n",
       "        vertical-align: middle;\n",
       "    }\n",
       "\n",
       "    .dataframe tbody tr th {\n",
       "        vertical-align: top;\n",
       "    }\n",
       "\n",
       "    .dataframe thead th {\n",
       "        text-align: right;\n",
       "    }\n",
       "</style>\n",
       "<table border=\"1\" class=\"dataframe\">\n",
       "  <thead>\n",
       "    <tr style=\"text-align: right;\">\n",
       "      <th></th>\n",
       "      <th>decyear</th>\n",
       "      <th>ordinal</th>\n",
       "      <th>lat</th>\n",
       "      <th>lon</th>\n",
       "      <th>glas_z</th>\n",
       "      <th>dem_z</th>\n",
       "      <th>dem_z_std</th>\n",
       "      <th>lulc</th>\n",
       "    </tr>\n",
       "  </thead>\n",
       "  <tbody>\n",
       "    <tr>\n",
       "      <th>count</th>\n",
       "      <td>65236.000000</td>\n",
       "      <td>65236.000000</td>\n",
       "      <td>65236.000000</td>\n",
       "      <td>65236.000000</td>\n",
       "      <td>65236.000000</td>\n",
       "      <td>65236.000000</td>\n",
       "      <td>65236.000000</td>\n",
       "      <td>65236.000000</td>\n",
       "    </tr>\n",
       "    <tr>\n",
       "      <th>mean</th>\n",
       "      <td>2005.945322</td>\n",
       "      <td>732291.890372</td>\n",
       "      <td>40.946798</td>\n",
       "      <td>-115.040612</td>\n",
       "      <td>1791.494167</td>\n",
       "      <td>1792.260964</td>\n",
       "      <td>5.504748</td>\n",
       "      <td>30.339444</td>\n",
       "    </tr>\n",
       "    <tr>\n",
       "      <th>std</th>\n",
       "      <td>1.729573</td>\n",
       "      <td>631.766682</td>\n",
       "      <td>3.590476</td>\n",
       "      <td>5.465065</td>\n",
       "      <td>1037.183482</td>\n",
       "      <td>1037.925371</td>\n",
       "      <td>7.518558</td>\n",
       "      <td>3.480576</td>\n",
       "    </tr>\n",
       "    <tr>\n",
       "      <th>min</th>\n",
       "      <td>2003.139571</td>\n",
       "      <td>731266.943345</td>\n",
       "      <td>34.999455</td>\n",
       "      <td>-124.482406</td>\n",
       "      <td>-115.550000</td>\n",
       "      <td>-114.570000</td>\n",
       "      <td>0.000000</td>\n",
       "      <td>12.000000</td>\n",
       "    </tr>\n",
       "    <tr>\n",
       "      <th>25%</th>\n",
       "      <td>2004.444817</td>\n",
       "      <td>731743.803182</td>\n",
       "      <td>38.101451</td>\n",
       "      <td>-119.257599</td>\n",
       "      <td>1166.970000</td>\n",
       "      <td>1168.240000</td>\n",
       "      <td>0.070000</td>\n",
       "      <td>31.000000</td>\n",
       "    </tr>\n",
       "    <tr>\n",
       "      <th>50%</th>\n",
       "      <td>2005.846896</td>\n",
       "      <td>732256.116938</td>\n",
       "      <td>39.884541</td>\n",
       "      <td>-115.686241</td>\n",
       "      <td>1555.730000</td>\n",
       "      <td>1556.380000</td>\n",
       "      <td>1.350000</td>\n",
       "      <td>31.000000</td>\n",
       "    </tr>\n",
       "    <tr>\n",
       "      <th>75%</th>\n",
       "      <td>2007.223249</td>\n",
       "      <td>732758.486046</td>\n",
       "      <td>43.453565</td>\n",
       "      <td>-109.816475</td>\n",
       "      <td>2399.355000</td>\n",
       "      <td>2400.072500</td>\n",
       "      <td>9.530000</td>\n",
       "      <td>31.000000</td>\n",
       "    </tr>\n",
       "    <tr>\n",
       "      <th>max</th>\n",
       "      <td>2009.775995</td>\n",
       "      <td>733691.238341</td>\n",
       "      <td>48.999727</td>\n",
       "      <td>-104.052336</td>\n",
       "      <td>4340.310000</td>\n",
       "      <td>4252.940000</td>\n",
       "      <td>49.900000</td>\n",
       "      <td>31.000000</td>\n",
       "    </tr>\n",
       "  </tbody>\n",
       "</table>\n",
       "</div>"
      ],
      "text/plain": [
       "            decyear        ordinal           lat           lon        glas_z  \\\n",
       "count  65236.000000   65236.000000  65236.000000  65236.000000  65236.000000   \n",
       "mean    2005.945322  732291.890372     40.946798   -115.040612   1791.494167   \n",
       "std        1.729573     631.766682      3.590476      5.465065   1037.183482   \n",
       "min     2003.139571  731266.943345     34.999455   -124.482406   -115.550000   \n",
       "25%     2004.444817  731743.803182     38.101451   -119.257599   1166.970000   \n",
       "50%     2005.846896  732256.116938     39.884541   -115.686241   1555.730000   \n",
       "75%     2007.223249  732758.486046     43.453565   -109.816475   2399.355000   \n",
       "max     2009.775995  733691.238341     48.999727   -104.052336   4340.310000   \n",
       "\n",
       "              dem_z     dem_z_std          lulc  \n",
       "count  65236.000000  65236.000000  65236.000000  \n",
       "mean    1792.260964      5.504748     30.339444  \n",
       "std     1037.925371      7.518558      3.480576  \n",
       "min     -114.570000      0.000000     12.000000  \n",
       "25%     1168.240000      0.070000     31.000000  \n",
       "50%     1556.380000      1.350000     31.000000  \n",
       "75%     2400.072500      9.530000     31.000000  \n",
       "max     4252.940000     49.900000     31.000000  "
      ]
     },
     "execution_count": 19,
     "metadata": {},
     "output_type": "execute_result"
    }
   ],
   "source": [
    "#note NMAD function is now distributed with scipy.stats and can be imported\n",
    "#import scipy.stats\n",
    "#glas_df.apply(scipy.stats.median_absolute_deviation)\n",
    "#note describe gives you a lot of info about your data say in the .csv file\n",
    "glas_df.describe()"
   ]
  },
  {
   "cell_type": "code",
   "execution_count": 20,
   "metadata": {},
   "outputs": [
    {
     "data": {
      "application/vnd.jupyter.widget-view+json": {
       "model_id": "a8a872391a5445f882b56bd6c62762b9",
       "version_major": 2,
       "version_minor": 0
      },
      "text/plain": [
       "Canvas(toolbar=Toolbar(toolitems=[('Home', 'Reset original view', 'home', 'home'), ('Back', 'Back to previous …"
      ]
     },
     "metadata": {},
     "output_type": "display_data"
    },
    {
     "data": {
      "text/plain": [
       "<matplotlib.axes._subplots.AxesSubplot at 0x7f3b56da5f50>"
      ]
     },
     "execution_count": 20,
     "metadata": {},
     "output_type": "execute_result"
    }
   ],
   "source": [
    "glas_df.plot(x='lon',y='lat',kind='scatter',c='glas_z',s=1,cmap='inferno')"
   ]
  },
  {
   "cell_type": "code",
   "execution_count": 21,
   "metadata": {},
   "outputs": [
    {
     "data": {
      "application/vnd.jupyter.widget-view+json": {
       "model_id": "820f494f534b4a4692ab56255177e160",
       "version_major": 2,
       "version_minor": 0
      },
      "text/plain": [
       "Canvas(toolbar=Toolbar(toolitems=[('Home', 'Reset original view', 'home', 'home'), ('Back', 'Back to previous …"
      ]
     },
     "metadata": {},
     "output_type": "display_data"
    },
    {
     "data": {
      "text/plain": [
       "331"
      ]
     },
     "execution_count": 21,
     "metadata": {},
     "output_type": "execute_result"
    }
   ],
   "source": [
    "#try changing the variable represented with the color ramp\n",
    "glas_df.plot(x='lon',y='lat',kind='scatter',c='decyear',s=1,cmap='inferno')\n",
    "#create a histogram that shows the number of points vs time (decyear)\n",
    "#Determine the number of bins needed to provide weekly resolution\n",
    "nbins=int(50*np.ptp(glas_df['decyear'].values))\n",
    "nbins"
   ]
  },
  {
   "cell_type": "code",
   "execution_count": 22,
   "metadata": {},
   "outputs": [
    {
     "data": {
      "application/vnd.jupyter.widget-view+json": {
       "model_id": "27ee46e6393447ef98db6375fed3148a",
       "version_major": 2,
       "version_minor": 0
      },
      "text/plain": [
       "Canvas(toolbar=Toolbar(toolitems=[('Home', 'Reset original view', 'home', 'home'), ('Back', 'Back to previous …"
      ]
     },
     "metadata": {},
     "output_type": "display_data"
    },
    {
     "data": {
      "text/plain": [
       "Text(0.5, 1.0, 'Weekly usable ICESat point count over CONUS')"
      ]
     },
     "execution_count": 22,
     "metadata": {},
     "output_type": "execute_result"
    }
   ],
   "source": [
    "ax=glas_df.hist('decyear',bins=nbins)[0,0]\n",
    "ax.set_ylabel('Number of ICESat points')\n",
    "ax.set_title('Weekly usable ICESat point count over CONUS')"
   ]
  },
  {
   "cell_type": "code",
   "execution_count": 23,
   "metadata": {},
   "outputs": [
    {
     "data": {
      "text/plain": [
       "222"
      ]
     },
     "execution_count": 23,
     "metadata": {},
     "output_type": "execute_result"
    }
   ],
   "source": [
    "#Determine number of bins needed for 20 m elevation bins\n",
    "binwidth=20\n",
    "nbins=int(np.ptp(glas_df['glas_z'].values)/binwidth)\n",
    "nbins"
   ]
  },
  {
   "cell_type": "code",
   "execution_count": 24,
   "metadata": {},
   "outputs": [
    {
     "data": {
      "application/vnd.jupyter.widget-view+json": {
       "model_id": "d6b3774c2637498aa00b3edb7634c061",
       "version_major": 2,
       "version_minor": 0
      },
      "text/plain": [
       "Canvas(toolbar=Toolbar(toolitems=[('Home', 'Reset original view', 'home', 'home'), ('Back', 'Back to previous …"
      ]
     },
     "metadata": {},
     "output_type": "display_data"
    },
    {
     "data": {
      "text/plain": [
       "array([[<matplotlib.axes._subplots.AxesSubplot object at 0x7f3b5632a110>]],\n",
       "      dtype=object)"
      ]
     },
     "execution_count": 24,
     "metadata": {},
     "output_type": "execute_result"
    }
   ],
   "source": [
    "glas_df.hist('glas_z',bins=nbins)"
   ]
  },
  {
   "cell_type": "code",
   "execution_count": 25,
   "metadata": {},
   "outputs": [
    {
     "data": {
      "text/plain": [
       "False    62136\n",
       "True      3100\n",
       "Name: glas_z, dtype: int64"
      ]
     },
     "execution_count": 25,
     "metadata": {},
     "output_type": "execute_result"
    }
   ],
   "source": [
    "#some values are negative, that means they are below the WGS84 ellipsoid\n",
    "#first find how many GLAS points have negative values\n",
    "glas_df['glas_z'] < 0\n",
    "(glas_df['glas_z'] < 0).value_counts()"
   ]
  },
  {
   "cell_type": "code",
   "execution_count": 26,
   "metadata": {},
   "outputs": [
    {
     "data": {
      "application/vnd.jupyter.widget-view+json": {
       "model_id": "f5324018077644a1a90a70d7dbef07be",
       "version_major": 2,
       "version_minor": 0
      },
      "text/plain": [
       "Canvas(toolbar=Toolbar(toolitems=[('Home', 'Reset original view', 'home', 'home'), ('Back', 'Back to previous …"
      ]
     },
     "metadata": {},
     "output_type": "display_data"
    },
    {
     "data": {
      "text/plain": [
       "<matplotlib.axes._subplots.AxesSubplot at 0x7f3b440a5190>"
      ]
     },
     "execution_count": 26,
     "metadata": {},
     "output_type": "execute_result"
    }
   ],
   "source": [
    "#create a scatter plot using points below 0 height above the WGS84 ellipsoid\n",
    "glas_df[glas_df['glas_z'] < 0]\n",
    "glas_df[glas_df['glas_z'] < 0].plot(x='lon',y='lat',kind='scatter',c='dem_z',s=1,cmap='inferno',vmin=-30, vmax=0)"
   ]
  },
  {
   "cell_type": "code",
   "execution_count": 27,
   "metadata": {},
   "outputs": [],
   "source": [
    "#compute the elevation difference between ICESat glas_z and SRTM dem_z values\n",
    "glas_df['glas_srtm_dh']=glas_df['glas_z']-glas_df['dem_z']"
   ]
  },
  {
   "cell_type": "code",
   "execution_count": 28,
   "metadata": {},
   "outputs": [
    {
     "data": {
      "text/html": [
       "<div>\n",
       "<style scoped>\n",
       "    .dataframe tbody tr th:only-of-type {\n",
       "        vertical-align: middle;\n",
       "    }\n",
       "\n",
       "    .dataframe tbody tr th {\n",
       "        vertical-align: top;\n",
       "    }\n",
       "\n",
       "    .dataframe thead th {\n",
       "        text-align: right;\n",
       "    }\n",
       "</style>\n",
       "<table border=\"1\" class=\"dataframe\">\n",
       "  <thead>\n",
       "    <tr style=\"text-align: right;\">\n",
       "      <th></th>\n",
       "      <th>decyear</th>\n",
       "      <th>ordinal</th>\n",
       "      <th>lat</th>\n",
       "      <th>lon</th>\n",
       "      <th>glas_z</th>\n",
       "      <th>dem_z</th>\n",
       "      <th>dem_z_std</th>\n",
       "      <th>lulc</th>\n",
       "      <th>glas_srtm_dh</th>\n",
       "      <th>glas_srtm_dt</th>\n",
       "    </tr>\n",
       "  </thead>\n",
       "  <tbody>\n",
       "    <tr>\n",
       "      <th>0</th>\n",
       "      <td>2003.139571</td>\n",
       "      <td>731266.943345</td>\n",
       "      <td>44.157897</td>\n",
       "      <td>-105.356562</td>\n",
       "      <td>1398.51</td>\n",
       "      <td>1400.52</td>\n",
       "      <td>0.33</td>\n",
       "      <td>31</td>\n",
       "      <td>-2.01</td>\n",
       "      <td>3.027571</td>\n",
       "    </tr>\n",
       "    <tr>\n",
       "      <th>1</th>\n",
       "      <td>2003.139571</td>\n",
       "      <td>731266.943346</td>\n",
       "      <td>44.150175</td>\n",
       "      <td>-105.358116</td>\n",
       "      <td>1387.11</td>\n",
       "      <td>1384.64</td>\n",
       "      <td>0.43</td>\n",
       "      <td>31</td>\n",
       "      <td>2.47</td>\n",
       "      <td>3.027571</td>\n",
       "    </tr>\n",
       "    <tr>\n",
       "      <th>2</th>\n",
       "      <td>2003.139571</td>\n",
       "      <td>731266.943347</td>\n",
       "      <td>44.148632</td>\n",
       "      <td>-105.358427</td>\n",
       "      <td>1392.83</td>\n",
       "      <td>1383.49</td>\n",
       "      <td>0.28</td>\n",
       "      <td>31</td>\n",
       "      <td>9.34</td>\n",
       "      <td>3.027571</td>\n",
       "    </tr>\n",
       "    <tr>\n",
       "      <th>3</th>\n",
       "      <td>2003.139571</td>\n",
       "      <td>731266.943347</td>\n",
       "      <td>44.147087</td>\n",
       "      <td>-105.358738</td>\n",
       "      <td>1384.24</td>\n",
       "      <td>1382.85</td>\n",
       "      <td>0.84</td>\n",
       "      <td>31</td>\n",
       "      <td>1.39</td>\n",
       "      <td>3.027571</td>\n",
       "    </tr>\n",
       "    <tr>\n",
       "      <th>4</th>\n",
       "      <td>2003.139571</td>\n",
       "      <td>731266.943347</td>\n",
       "      <td>44.145542</td>\n",
       "      <td>-105.359048</td>\n",
       "      <td>1369.21</td>\n",
       "      <td>1380.24</td>\n",
       "      <td>1.73</td>\n",
       "      <td>31</td>\n",
       "      <td>-11.03</td>\n",
       "      <td>3.027571</td>\n",
       "    </tr>\n",
       "  </tbody>\n",
       "</table>\n",
       "</div>"
      ],
      "text/plain": [
       "       decyear        ordinal        lat         lon   glas_z    dem_z  \\\n",
       "0  2003.139571  731266.943345  44.157897 -105.356562  1398.51  1400.52   \n",
       "1  2003.139571  731266.943346  44.150175 -105.358116  1387.11  1384.64   \n",
       "2  2003.139571  731266.943347  44.148632 -105.358427  1392.83  1383.49   \n",
       "3  2003.139571  731266.943347  44.147087 -105.358738  1384.24  1382.85   \n",
       "4  2003.139571  731266.943347  44.145542 -105.359048  1369.21  1380.24   \n",
       "\n",
       "   dem_z_std  lulc  glas_srtm_dh  glas_srtm_dt  \n",
       "0       0.33    31         -2.01      3.027571  \n",
       "1       0.43    31          2.47      3.027571  \n",
       "2       0.28    31          9.34      3.027571  \n",
       "3       0.84    31          1.39      3.027571  \n",
       "4       1.73    31        -11.03      3.027571  "
      ]
     },
     "execution_count": 28,
     "metadata": {},
     "output_type": "execute_result"
    }
   ],
   "source": [
    "#compute the time difference between ICESat point timestamp and the SRTM timestamp\n",
    "#store in new column named glas_srtm_dt\n",
    "#February 11-22, 2000\n",
    "srtm_decyear=2000.112\n",
    "glas_df['glas_srtm_dt']=glas_df['decyear']-srtm_decyear\n",
    "glas_df.head()"
   ]
  },
  {
   "cell_type": "code",
   "execution_count": 29,
   "metadata": {},
   "outputs": [
    {
     "data": {
      "text/html": [
       "<div>\n",
       "<style scoped>\n",
       "    .dataframe tbody tr th:only-of-type {\n",
       "        vertical-align: middle;\n",
       "    }\n",
       "\n",
       "    .dataframe tbody tr th {\n",
       "        vertical-align: top;\n",
       "    }\n",
       "\n",
       "    .dataframe thead th {\n",
       "        text-align: right;\n",
       "    }\n",
       "</style>\n",
       "<table border=\"1\" class=\"dataframe\">\n",
       "  <thead>\n",
       "    <tr style=\"text-align: right;\">\n",
       "      <th></th>\n",
       "      <th>decyear</th>\n",
       "      <th>ordinal</th>\n",
       "      <th>lat</th>\n",
       "      <th>lon</th>\n",
       "      <th>glas_z</th>\n",
       "      <th>dem_z</th>\n",
       "      <th>dem_z_std</th>\n",
       "      <th>lulc</th>\n",
       "      <th>glas_srtm_dh</th>\n",
       "      <th>glas_srtm_dt</th>\n",
       "      <th>glas_srtm_dhdt</th>\n",
       "    </tr>\n",
       "  </thead>\n",
       "  <tbody>\n",
       "    <tr>\n",
       "      <th>0</th>\n",
       "      <td>2003.139571</td>\n",
       "      <td>731266.943345</td>\n",
       "      <td>44.157897</td>\n",
       "      <td>-105.356562</td>\n",
       "      <td>1398.51</td>\n",
       "      <td>1400.52</td>\n",
       "      <td>0.33</td>\n",
       "      <td>31</td>\n",
       "      <td>-2.01</td>\n",
       "      <td>3.027571</td>\n",
       "      <td>-0.663899</td>\n",
       "    </tr>\n",
       "    <tr>\n",
       "      <th>1</th>\n",
       "      <td>2003.139571</td>\n",
       "      <td>731266.943346</td>\n",
       "      <td>44.150175</td>\n",
       "      <td>-105.358116</td>\n",
       "      <td>1387.11</td>\n",
       "      <td>1384.64</td>\n",
       "      <td>0.43</td>\n",
       "      <td>31</td>\n",
       "      <td>2.47</td>\n",
       "      <td>3.027571</td>\n",
       "      <td>0.815836</td>\n",
       "    </tr>\n",
       "    <tr>\n",
       "      <th>2</th>\n",
       "      <td>2003.139571</td>\n",
       "      <td>731266.943347</td>\n",
       "      <td>44.148632</td>\n",
       "      <td>-105.358427</td>\n",
       "      <td>1392.83</td>\n",
       "      <td>1383.49</td>\n",
       "      <td>0.28</td>\n",
       "      <td>31</td>\n",
       "      <td>9.34</td>\n",
       "      <td>3.027571</td>\n",
       "      <td>3.084982</td>\n",
       "    </tr>\n",
       "    <tr>\n",
       "      <th>3</th>\n",
       "      <td>2003.139571</td>\n",
       "      <td>731266.943347</td>\n",
       "      <td>44.147087</td>\n",
       "      <td>-105.358738</td>\n",
       "      <td>1384.24</td>\n",
       "      <td>1382.85</td>\n",
       "      <td>0.84</td>\n",
       "      <td>31</td>\n",
       "      <td>1.39</td>\n",
       "      <td>3.027571</td>\n",
       "      <td>0.459114</td>\n",
       "    </tr>\n",
       "    <tr>\n",
       "      <th>4</th>\n",
       "      <td>2003.139571</td>\n",
       "      <td>731266.943347</td>\n",
       "      <td>44.145542</td>\n",
       "      <td>-105.359048</td>\n",
       "      <td>1369.21</td>\n",
       "      <td>1380.24</td>\n",
       "      <td>1.73</td>\n",
       "      <td>31</td>\n",
       "      <td>-11.03</td>\n",
       "      <td>3.027571</td>\n",
       "      <td>-3.643185</td>\n",
       "    </tr>\n",
       "  </tbody>\n",
       "</table>\n",
       "</div>"
      ],
      "text/plain": [
       "       decyear        ordinal        lat         lon   glas_z    dem_z  \\\n",
       "0  2003.139571  731266.943345  44.157897 -105.356562  1398.51  1400.52   \n",
       "1  2003.139571  731266.943346  44.150175 -105.358116  1387.11  1384.64   \n",
       "2  2003.139571  731266.943347  44.148632 -105.358427  1392.83  1383.49   \n",
       "3  2003.139571  731266.943347  44.147087 -105.358738  1384.24  1382.85   \n",
       "4  2003.139571  731266.943347  44.145542 -105.359048  1369.21  1380.24   \n",
       "\n",
       "   dem_z_std  lulc  glas_srtm_dh  glas_srtm_dt  glas_srtm_dhdt  \n",
       "0       0.33    31         -2.01      3.027571       -0.663899  \n",
       "1       0.43    31          2.47      3.027571        0.815836  \n",
       "2       0.28    31          9.34      3.027571        3.084982  \n",
       "3       0.84    31          1.39      3.027571        0.459114  \n",
       "4       1.73    31        -11.03      3.027571       -3.643185  "
      ]
     },
     "execution_count": 29,
     "metadata": {},
     "output_type": "execute_result"
    }
   ],
   "source": [
    "#compute the apparent annualized elevation change rate (dh/dt in meters per year) from these new columns\n",
    "glas_df['glas_srtm_dhdt']=glas_df['glas_srtm_dh']/glas_df['glas_srtm_dt']\n",
    "glas_df.head()"
   ]
  },
  {
   "cell_type": "code",
   "execution_count": 31,
   "metadata": {},
   "outputs": [],
   "source": [
    "#create a scatterplot of the difference values, use red to blue color map (RdBu)\n",
    "#set the color ramp limits using vmin and vmax keyword arguments to be symmetrical about 0z\n",
    "\n",
    "\n"
   ]
  },
  {
   "cell_type": "code",
   "execution_count": 32,
   "metadata": {},
   "outputs": [
    {
     "data": {
      "application/vnd.jupyter.widget-view+json": {
       "model_id": "218d762df58147d38dedf9a458d0d92d",
       "version_major": 2,
       "version_minor": 0
      },
      "text/plain": [
       "Canvas(toolbar=Toolbar(toolitems=[('Home', 'Reset original view', 'home', 'home'), ('Back', 'Back to previous …"
      ]
     },
     "metadata": {},
     "output_type": "display_data"
    }
   ],
   "source": [
    "ax = glas_df.plot(x='lon', y='lat', kind='scatter', c='glas_srtm_dh', s=1, cmap='RdBu', vmin=-10, vmax=10)"
   ]
  },
  {
   "cell_type": "code",
   "execution_count": 33,
   "metadata": {},
   "outputs": [
    {
     "data": {
      "application/vnd.jupyter.widget-view+json": {
       "model_id": "f9d23ed970d1484ba3d2031cf63e7342",
       "version_major": 2,
       "version_minor": 0
      },
      "text/plain": [
       "Canvas(toolbar=Toolbar(toolitems=[('Home', 'Reset original view', 'home', 'home'), ('Back', 'Back to previous …"
      ]
     },
     "metadata": {},
     "output_type": "display_data"
    }
   ],
   "source": [
    "ax = glas_df.plot(x='lon', y='lat', kind='scatter', c='glas_srtm_dh', s=1, cmap='RdBu', vmin=-50, vmax=50)"
   ]
  },
  {
   "cell_type": "code",
   "execution_count": 34,
   "metadata": {},
   "outputs": [
    {
     "name": "stdout",
     "output_type": "stream",
     "text": [
      "-0.7667968606291014\n",
      "12.36334152209537\n"
     ]
    }
   ],
   "source": [
    "#compute some descriptive statistics\n",
    "print(glas_df['glas_srtm_dh'].mean())\n",
    "print(glas_df['glas_srtm_dh'].std())"
   ]
  },
  {
   "cell_type": "code",
   "execution_count": 36,
   "metadata": {},
   "outputs": [
    {
     "name": "stdout",
     "output_type": "stream",
     "text": [
      "-0.7999999999999545\n",
      "2.4314640000001484\n"
     ]
    }
   ],
   "source": [
    "print(glas_df['glas_srtm_dh'].median())\n",
    "print(nmad(glas_df['glas_srtm_dh']))"
   ]
  },
  {
   "cell_type": "code",
   "execution_count": 37,
   "metadata": {},
   "outputs": [
    {
     "data": {
      "application/vnd.jupyter.widget-view+json": {
       "model_id": "8ef9fc6e50fd4092b5ffb5b28943d94a",
       "version_major": 2,
       "version_minor": 0
      },
      "text/plain": [
       "Canvas(toolbar=Toolbar(toolitems=[('Home', 'Reset original view', 'home', 'home'), ('Back', 'Back to previous …"
      ]
     },
     "metadata": {},
     "output_type": "display_data"
    },
    {
     "data": {
      "text/plain": [
       "<matplotlib.lines.Line2D at 0x7f3b2f733190>"
      ]
     },
     "execution_count": 37,
     "metadata": {},
     "output_type": "execute_result"
    }
   ],
   "source": [
    "#create a histogram of the difference values\n",
    "f, ax=plt.subplots()\n",
    "glas_df.hist('glas_srtm_dh',ax=ax,bins=128,range=(-10,10))\n",
    "ax.axvline(0, color='k')\n",
    "ax.axvline(glas_df['glas_srtm_dh'].median(),color='r')"
   ]
  },
  {
   "cell_type": "code",
   "execution_count": 38,
   "metadata": {},
   "outputs": [
    {
     "data": {
      "application/vnd.jupyter.widget-view+json": {
       "model_id": "f905d339db0845b982e27b98d108e79e",
       "version_major": 2,
       "version_minor": 0
      },
      "text/plain": [
       "Canvas(toolbar=Toolbar(toolitems=[('Home', 'Reset original view', 'home', 'home'), ('Back', 'Back to previous …"
      ]
     },
     "metadata": {},
     "output_type": "display_data"
    },
    {
     "data": {
      "text/plain": [
       "<matplotlib.lines.Line2D at 0x7f3b443976d0>"
      ]
     },
     "execution_count": 38,
     "metadata": {},
     "output_type": "execute_result"
    }
   ],
   "source": [
    "#create a scatterplot of elevation difference (glas_srtm_dh) values vs. elvation values\n",
    "ax = glas_df.plot('glas_z', 'glas_srtm_dh', kind='scatter', s=1)\n",
    "#Add a horizontal line at 0\n",
    "ax.axhline(0, color='k', lw=0.5)"
   ]
  },
  {
   "cell_type": "code",
   "execution_count": 39,
   "metadata": {},
   "outputs": [
    {
     "name": "stdout",
     "output_type": "stream",
     "text": [
      "Mean difference: -0.7667968606291014\n",
      "3.5 * std: 43.271695327333795\n"
     ]
    }
   ],
   "source": [
    "#remove outliers, one option is to define outliers as values outside some absolute threshold, can set this as a multiple of the standard deviation (3*std)\n",
    "print(\"Mean difference:\", glas_df['glas_srtm_dh'].mean())\n",
    "thresh = 3.5 * glas_df['glas_srtm_dh'].std()\n",
    "print(\"3.5 * std:\", thresh)"
   ]
  },
  {
   "cell_type": "code",
   "execution_count": 40,
   "metadata": {},
   "outputs": [
    {
     "name": "stdout",
     "output_type": "stream",
     "text": [
      "Number of points before filter: 65236\n",
      "Number of points after filter: 64589\n"
     ]
    }
   ],
   "source": [
    "idx = (glas_df['glas_srtm_dh'] - glas_df['glas_srtm_dh'].mean()).abs() <= thresh\n",
    "glas_df_fltr = glas_df[idx]\n",
    "print(\"Number of points before filter:\", glas_df.shape[0])\n",
    "print(\"Number of points after filter:\", glas_df_fltr.shape[0])"
   ]
  },
  {
   "cell_type": "code",
   "execution_count": 41,
   "metadata": {},
   "outputs": [
    {
     "data": {
      "application/vnd.jupyter.widget-view+json": {
       "model_id": "f08584c163c444538f47d07de8746263",
       "version_major": 2,
       "version_minor": 0
      },
      "text/plain": [
       "Canvas(toolbar=Toolbar(toolitems=[('Home', 'Reset original view', 'home', 'home'), ('Back', 'Back to previous …"
      ]
     },
     "metadata": {},
     "output_type": "display_data"
    }
   ],
   "source": [
    "clim = thresh\n",
    "f, axa = plt.subplots(1,2, figsize=(10,4))\n",
    "#Outliers plotted in black\n",
    "glas_df.plot(ax=axa[1], x='glas_z', y='glas_srtm_dh', kind='scatter', s=1, color='k', label='Outliers')\n",
    "glas_df_fltr.plot(ax=axa[0], x='lon', y='lat', kind='scatter', c='glas_srtm_dh', s=1, cmap='RdBu', vmin=-clim, vmax=clim)\n",
    "glas_df_fltr.plot(ax=axa[1], x='glas_z', y='glas_srtm_dh', kind='scatter', s=1, c='orange', label='Inliers')\n",
    "glas_df[~idx].plot(ax=axa[0], x='lon', y='lat', kind='scatter', color='k', s=1, legend=False)\n",
    "axa[1].axhline(0,color='k')\n",
    "plt.tight_layout()"
   ]
  },
  {
   "cell_type": "code",
   "execution_count": null,
   "metadata": {},
   "outputs": [],
   "source": []
  }
 ],
 "metadata": {
  "kernelspec": {
   "display_name": "Python 3",
   "language": "python",
   "name": "python3"
  },
  "language_info": {
   "codemirror_mode": {
    "name": "ipython",
    "version": 3
   },
   "file_extension": ".py",
   "mimetype": "text/x-python",
   "name": "python",
   "nbconvert_exporter": "python",
   "pygments_lexer": "ipython3",
   "version": "3.6.4"
  }
 },
 "nbformat": 4,
 "nbformat_minor": 4
}
